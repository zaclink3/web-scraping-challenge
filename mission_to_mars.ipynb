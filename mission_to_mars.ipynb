{
 "cells": [
  {
   "cell_type": "code",
   "execution_count": 1,
   "id": "868e905b",
   "metadata": {},
   "outputs": [],
   "source": [
    "from splinter import Browser\n",
    "from bs4 import BeautifulSoup\n",
    "from webdriver_manager.chrome import ChromeDriverManager\n",
    "import requests\n",
    "import pandas as pd"
   ]
  },
  {
   "cell_type": "code",
   "execution_count": 2,
   "id": "1854be85",
   "metadata": {},
   "outputs": [],
   "source": [
    "# Setup splinter\n",
    "executable_path = {'executable_path': ChromeDriverManager().install()}\n",
    "browser = Browser('chrome', **executable_path, headless=False)"
   ]
  },
  {
   "cell_type": "code",
   "execution_count": 3,
   "id": "1fefedbf",
   "metadata": {},
   "outputs": [],
   "source": [
    "url = 'https://redplanetscience.com/'"
   ]
  },
  {
   "cell_type": "code",
   "execution_count": 4,
   "id": "6b62fe48",
   "metadata": {},
   "outputs": [
    {
     "name": "stdout",
     "output_type": "stream",
     "text": [
      "Title: Naming a NASA Mars Rover Can Change Your Life\n",
      "Sentence: Want to name the robotic scientist NASA is sending to Mars in 2020? The student who named Curiosity — the rover currently exploring Mars — will tell you this is an opportunity worth taking.\n"
     ]
    }
   ],
   "source": [
    "browser.visit(url)\n",
    "html = browser.html\n",
    "news_soup = BeautifulSoup(html, 'html.parser')\n",
    "\n",
    "news_title = news_soup.find('div',class_='content_title').text.strip()\n",
    "news_paragraph = news_soup.find('div', class_='article_teaser_body').text.strip()\n",
    "\n",
    "\n",
    "print(f\"Title: {news_title}\")\n",
    "print(f\"Sentence: {news_paragraph}\")"
   ]
  },
  {
   "cell_type": "code",
   "execution_count": null,
   "id": "43618324",
   "metadata": {},
   "outputs": [],
   "source": [
    "# print(news_soup)"
   ]
  },
  {
   "cell_type": "code",
   "execution_count": null,
   "id": "8fa47cec",
   "metadata": {},
   "outputs": [],
   "source": [
    "news_title_saved = \"NASA's Perseverance Rover Goes Through Trials by Fire, Ice, Light and Sound\""
   ]
  },
  {
   "cell_type": "code",
   "execution_count": null,
   "id": "14f9d365",
   "metadata": {},
   "outputs": [],
   "source": [
    "news_paragraph_saved= \"The agency's new Mars rover is put through a series of tests in vacuum chambers, acoustic chambers and more to get ready for the Red Planet.\""
   ]
  },
  {
   "cell_type": "code",
   "execution_count": null,
   "id": "16bb4207",
   "metadata": {},
   "outputs": [],
   "source": []
  },
  {
   "cell_type": "code",
   "execution_count": null,
   "id": "94b7078c",
   "metadata": {},
   "outputs": [],
   "source": [
    "image_url = 'https://spaceimages-mars.com/'"
   ]
  },
  {
   "cell_type": "code",
   "execution_count": null,
   "id": "e52a03ce",
   "metadata": {},
   "outputs": [],
   "source": [
    "browser.visit(image_url)\n",
    "browser.find_by_tag('button')[1].click()\n",
    "\n",
    "html = browser.html\n",
    "img_soup = BeautifulSoup(html, 'html.parser')\n",
    "\n",
    "# featured_image_url = img_soup.find('img',class_='fancybox-image').get('src')\n",
    "\n",
    "# print(featured_image_url)\n",
    "\n",
    "# <button class=\"btn btn-outline-light\"> FULL IMAGE</button>\n",
    "\n",
    "# print(html)\n"
   ]
  },
  {
   "cell_type": "code",
   "execution_count": null,
   "id": "334f9713",
   "metadata": {},
   "outputs": [],
   "source": [
    "# img_soup"
   ]
  },
  {
   "cell_type": "code",
   "execution_count": null,
   "id": "0c6dd82e",
   "metadata": {},
   "outputs": [],
   "source": [
    "featured_image_url = img_soup.find('img',class_='fancybox-image').get('src')\n",
    "\n",
    "img_url = f'https://spaceimages-mars.com/{featured_image_url}'\n",
    "\n",
    "img_url"
   ]
  },
  {
   "cell_type": "code",
   "execution_count": null,
   "id": "6f9203eb",
   "metadata": {},
   "outputs": [],
   "source": [
    "img_url_saved = 'https://spaceimages-mars.com/image/featured/mars1.jpg'"
   ]
  },
  {
   "cell_type": "code",
   "execution_count": null,
   "id": "157d67aa",
   "metadata": {},
   "outputs": [],
   "source": [
    "facts_url = 'https://galaxyfacts-mars.com'\n",
    "\n",
    "tables = pd.read_html(facts_url, header=0, index_col=0)[0].reset_index()\n",
    "column1 = list(tables.iloc[:,0])\n",
    "tables.drop(tables.columns[0], axis=1)\n",
    "tables.index = column1"
   ]
  },
  {
   "cell_type": "code",
   "execution_count": null,
   "id": "b7c0ad12",
   "metadata": {},
   "outputs": [],
   "source": []
  },
  {
   "cell_type": "code",
   "execution_count": null,
   "id": "2f0f8e0b",
   "metadata": {},
   "outputs": [],
   "source": [
    "\n",
    "hemi_url = 'https://marshemispheres.com/'\n",
    "response = requests.get(hemi_url)\n",
    "hemi_soup = BeautifulSoup(response.text, 'html.parser')\n",
    "\n",
    "hemisphere_links = hemi_soup.find_all('div', class_='description')\n",
    "data = []\n",
    "\n",
    "for link in hemisphere_links:\n",
    "    title = link.find('h3').text\n",
    "    hemisphere_url = hemi_url + link.find('a')['href']\n",
    "    hemisphere_response = requests.get(hemisphere_url)\n",
    "    hemisphere_soup = BeautifulSoup(hemisphere_response.text, 'html.parser')\n",
    "    hemi_img_url = hemi_url + hemisphere_soup.find('img', class_='wide-image')['src']\n",
    "    data.append({'title': title, 'img_url': img_url})\n",
    "\n",
    "print(data)\n"
   ]
  },
  {
   "cell_type": "code",
   "execution_count": null,
   "id": "85f2becb",
   "metadata": {},
   "outputs": [],
   "source": []
  },
  {
   "cell_type": "code",
   "execution_count": null,
   "id": "5b83f5a2",
   "metadata": {},
   "outputs": [],
   "source": []
  },
  {
   "cell_type": "code",
   "execution_count": null,
   "id": "1c9df4fb",
   "metadata": {},
   "outputs": [],
   "source": []
  }
 ],
 "metadata": {
  "kernelspec": {
   "display_name": "Pythondata",
   "language": "python",
   "name": "pythondata"
  },
  "language_info": {
   "codemirror_mode": {
    "name": "ipython",
    "version": 3
   },
   "file_extension": ".py",
   "mimetype": "text/x-python",
   "name": "python",
   "nbconvert_exporter": "python",
   "pygments_lexer": "ipython3",
   "version": "3.9.13"
  }
 },
 "nbformat": 4,
 "nbformat_minor": 5
}
